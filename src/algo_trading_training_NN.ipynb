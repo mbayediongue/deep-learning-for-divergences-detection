{
 "cells": [
  {
   "cell_type": "markdown",
   "metadata": {},
   "source": [
    "##                   PRICE: Machine learning pour le trading algorithmique\n",
    "\n",
    "18/05/2022\n",
    "\n",
    "By Mbaye DIONGUE\n",
    "\n",
    "This document contains the code used to train the deep neural network used to predict the 'quality' of a detected divergence. This quality can be seen as the drop or the climb height after the detection of a divergence. As the result, it enables to predict how much and when we should invest ('take profit' in technical term) or withdraw a prior investment ('stop lost')."
   ]
  },
  {
   "cell_type": "code",
   "execution_count": 1,
   "metadata": {},
   "outputs": [],
   "source": [
    "import tensorflow as tf\n",
    "import matplotlib.pyplot as plt\n",
    "import pandas as pd\n",
    "import numpy as np\n",
    "import keras # on peut aussi ne pas l'impoter et utiliser: tf.keras\n",
    "from keras.layers import Dense, Input, Flatten, Dense, Concatenate, LSTM, Dropout\n",
    "from keras.models import Model, Sequential\n",
    "from pandas import read_csv\n",
    "import pandas as pd\n",
    "from sklearn.model_selection import train_test_split\n",
    "from sklearn.metrics import confusion_matrix, ConfusionMatrixDisplay\n",
    "from sklearn.preprocessing import StandardScaler, MinMaxScaler\n",
    "from keras.callbacks import EarlyStopping\n",
    "from numpy.random import seed\n",
    "from sklearn.metrics import mean_squared_error \n",
    "import math"
   ]
  },
  {
   "cell_type": "code",
   "execution_count": 2,
   "metadata": {},
   "outputs": [
    {
     "name": "stdout",
     "output_type": "stream",
     "text": [
      "C:\\Espace étude\\EMSE 2A\\PRICE\\algorithmic_trading-main\\algorithmic_trading-main\\Trading_project\\algo_parallele\n"
     ]
    }
   ],
   "source": [
    "# to be modified (the repository should be the one hosting the data)\n",
    "%cd \"C:\\folder_where_the_data_is_loacated\""
   ]
  },
  {
   "cell_type": "markdown",
   "metadata": {},
   "source": [
    "### 1. Loading data"
   ]
  },
  {
   "cell_type": "code",
   "execution_count": 3,
   "metadata": {},
   "outputs": [
    {
     "name": "stdout",
     "output_type": "stream",
     "text": [
      "(227494, 66)\n",
      "(226896, 66)\n"
     ]
    }
   ],
   "source": [
    "with open(\"dataTot.out\", 'r') as file:\n",
    "    data_= file.readlines()\n",
    "    \n",
    "data= np.loadtxt(data_, delimiter=',')\n",
    "print(data.shape)\n",
    "data=pd.DataFrame(data)\n",
    "data.dropna(inplace=True) \n",
    "print(data.shape)\n",
    "data=np.array(data)\n",
    "#print(data)\n",
    "#data=np.unique(data, axis=0)\n",
    "X, Y= np.delete(data, 5, axis=1), data[:,5]"
   ]
  },
  {
   "cell_type": "code",
   "execution_count": 4,
   "metadata": {},
   "outputs": [
    {
     "name": "stdout",
     "output_type": "stream",
     "text": [
      "(226896, 65)\n",
      "(226896, 1)\n"
     ]
    }
   ],
   "source": [
    "Y=Y.reshape(-1, 1)\n",
    "print(X.shape)\n",
    "print(Y.shape)"
   ]
  },
  {
   "cell_type": "markdown",
   "metadata": {},
   "source": [
    "### 2. Splitting data into training, test and validation set"
   ]
  },
  {
   "cell_type": "code",
   "execution_count": 5,
   "metadata": {},
   "outputs": [],
   "source": [
    "seed(1234) # Pour la reproductibilité\n",
    "train_size=0.8 # size of the training set\n",
    "(X_train, X_rem, Y_train, Y_rem) = train_test_split(X, Y, train_size=train_size, random_state=None)\n",
    "\n",
    "# Validation and test set\n",
    "test_size=0.5 # test set size in the remaining data\n",
    "(X_test, X_val, Y_test, Y_val) = train_test_split(X_rem, Y_rem, test_size=test_size, random_state=None)"
   ]
  },
  {
   "cell_type": "markdown",
   "metadata": {},
   "source": [
    "### 3. Normalization of the data"
   ]
  },
  {
   "cell_type": "code",
   "execution_count": 6,
   "metadata": {},
   "outputs": [],
   "source": [
    "# Inputs\n",
    "scalerX = StandardScaler().fit(X_train)\n",
    "X_train = scalerX.transform(X_train)\n",
    "X_val = scalerX.transform(X_val)\n",
    "X_test = scalerX.transform(X_test)\n",
    "\n",
    "# Outputs\n",
    "scalerY = StandardScaler().fit(Y_train)\n",
    "Y_train_ori=Y_train.copy()\n",
    "Y_train = scalerY.transform(Y_train)\n",
    "#Y_val = scalerY.transform(Y_val)\n",
    "#Y_test = scalerY.transform(Y_test)"
   ]
  },
  {
   "cell_type": "markdown",
   "metadata": {},
   "source": [
    "### 4. Pretreament for the lstm network entry and the first dense network entry"
   ]
  },
  {
   "cell_type": "code",
   "execution_count": 7,
   "metadata": {},
   "outputs": [
    {
     "name": "stdout",
     "output_type": "stream",
     "text": [
      "X_train_lstm shape:  (181516, 30, 2)\n",
      "X_validattion_lstm shape:  (22690, 30, 2)\n",
      "X_test_lstm shape:  (22690, 30, 2)\n",
      "X_train2 shape:  (181516, 5)\n",
      "Y_train shape:  (181516, 1)\n"
     ]
    }
   ],
   "source": [
    "X_train_lstm_temp, X_train2= X_train[:,5:], X_train[:, 0:5]\n",
    "X_val_lstm_temp, X_val2= X_val[:,5:], X_val[:, 0:5]\n",
    "X_test_lstm_temp, X_test2= X_test[:,5:], X_test[:, 0:5]\n",
    "\n",
    "X_train_lstm= np.empty((X_train_lstm_temp.shape[0], X_train_lstm_temp.shape[1]//2, 2))\n",
    "X_train_lstm[:,:,0]=X_train_lstm_temp[:,0:X_train_lstm_temp.shape[1]//2]\n",
    "X_train_lstm[:,:,1]=X_train_lstm_temp[:,X_train_lstm_temp.shape[1]//2 :]\n",
    "\n",
    "X_val_lstm= np.empty((X_val_lstm_temp.shape[0], X_val_lstm_temp.shape[1]//2, 2))\n",
    "X_val_lstm[:,:,0]=X_val_lstm_temp[:,0:X_val_lstm_temp.shape[1]//2]\n",
    "X_val_lstm[:,:,1]=X_val_lstm_temp[:,X_val_lstm_temp.shape[1]//2 :]\n",
    "\n",
    "X_test_lstm= np.empty((X_test_lstm_temp.shape[0], X_test_lstm_temp.shape[1]//2, 2))\n",
    "X_test_lstm[:,:,0]=X_test_lstm_temp[:,0:X_test_lstm_temp.shape[1]//2]\n",
    "X_test_lstm[:,:,1]=X_test_lstm_temp[:,X_test_lstm_temp.shape[1]//2 :]\n",
    "\n",
    "#X_train_lstm=np.reshape(X_train_lstm, (X_train_lstm.shape[0], X_train_lstm.shape[1]//2, 2 ))\n",
    "print(\"X_train_lstm shape: \", X_train_lstm.shape)\n",
    "print(\"X_validattion_lstm shape: \", X_val_lstm.shape)\n",
    "print(\"X_test_lstm shape: \", X_test_lstm.shape)\n",
    "\n",
    "print(\"X_train2 shape: \", X_train2.shape)\n",
    "print(\"Y_train shape: \", Y_train.shape)"
   ]
  },
  {
   "cell_type": "markdown",
   "metadata": {},
   "source": [
    "## 5. LSTM combined with fully-connected layers \n",
    "This model combined an LSTM part (fo temporal data) and a classic network part (for other variables: slops of the stock market and the RSI, duration pf the divergence ...). Theses to subnetwork are combined at the end by a fully connected layer that predicts the Y value."
   ]
  },
  {
   "cell_type": "code",
   "execution_count": 8,
   "metadata": {},
   "outputs": [
    {
     "name": "stdout",
     "output_type": "stream",
     "text": [
      "Model: \"model\"\n",
      "__________________________________________________________________________________________________\n",
      " Layer (type)                   Output Shape         Param #     Connected to                     \n",
      "==================================================================================================\n",
      " temporal_input (InputLayer)    [(None, 30, 2)]      0           []                               \n",
      "                                                                                                  \n",
      " lstm (LSTM)                    (None, 30, 8)        352         ['temporal_input[0][0]']         \n",
      "                                                                                                  \n",
      " dropout (Dropout)              (None, 30, 8)        0           ['lstm[0][0]']                   \n",
      "                                                                                                  \n",
      " other_variables (InputLayer)   [(None, 5)]          0           []                               \n",
      "                                                                                                  \n",
      " lstm_1 (LSTM)                  (None, 30, 8)        544         ['dropout[0][0]']                \n",
      "                                                                                                  \n",
      " dense_1 (Dense)                (None, 8)            48          ['other_variables[0][0]']        \n",
      "                                                                                                  \n",
      " dropout_1 (Dropout)            (None, 30, 8)        0           ['lstm_1[0][0]']                 \n",
      "                                                                                                  \n",
      " dropout_2 (Dropout)            (None, 8)            0           ['dense_1[0][0]']                \n",
      "                                                                                                  \n",
      " dense (Dense)                  (None, 30, 8)        72          ['dropout_1[0][0]']              \n",
      "                                                                                                  \n",
      " dense_2 (Dense)                (None, 4)            36          ['dropout_2[0][0]']              \n",
      "                                                                                                  \n",
      " flatten (Flatten)              (None, 240)          0           ['dense[0][0]']                  \n",
      "                                                                                                  \n",
      " flatten_1 (Flatten)            (None, 4)            0           ['dense_2[0][0]']                \n",
      "                                                                                                  \n",
      " concatenate (Concatenate)      (None, 244)          0           ['flatten[0][0]',                \n",
      "                                                                  'flatten_1[0][0]']              \n",
      "                                                                                                  \n",
      " dense_3 (Dense)                (None, 8)            1960        ['concatenate[0][0]']            \n",
      "                                                                                                  \n",
      " dense_4 (Dense)                (None, 8)            72          ['dense_3[0][0]']                \n",
      "                                                                                                  \n",
      " dense_5 (Dense)                (None, 1)            9           ['dense_4[0][0]']                \n",
      "                                                                                                  \n",
      "==================================================================================================\n",
      "Total params: 3,093\n",
      "Trainable params: 3,093\n",
      "Non-trainable params: 0\n",
      "__________________________________________________________________________________________________\n"
     ]
    }
   ],
   "source": [
    "nbVar=5 # number of other variables distinct from the RSI and Cours\n",
    "context_lenght=30\n",
    "\n",
    "# feature extraction from temporal data (cours+rsi)\n",
    "#        X_train_lstm.shape[1]= time_step\n",
    "temporal_series_input = Input(shape=(X_train_lstm.shape[1], X_train_lstm.shape[2]), name='temporal_input')\n",
    "lstm1=LSTM(8, return_sequences = True)(temporal_series_input)\n",
    "dropout1 = Dropout(0.3)(lstm1, training=True)\n",
    "lstm2=LSTM(8, return_sequences = True)(dropout1)\n",
    "dropout2 = Dropout(0.3)(lstm2, training=True)\n",
    "dense1_1=Dense( 8,activation = 'relu'  )(dropout2)\n",
    "#lstm3=LSTM(8, activation = 'relu')(dropout2)\n",
    "flat_1 = Flatten()(dense1_1)\n",
    "\n",
    "# feature extraction from other variables ('angle1', 'angle2', 'longueur', 'type divergence')\n",
    "other_inputs  = Input(shape=(X_train2.shape[1],), name='other_variables')\n",
    "dense2_1=Dense( 8,activation = 'relu'  )(other_inputs)\n",
    "dropout2_1 = Dropout(0.3)(dense2_1, training=True)\n",
    "dense2_2=Dense( 4,activation = 'relu'  )(dropout2_1)\n",
    "#dropout2_2 = Dropout(0.3)(dense2_2, training=True)\n",
    "#dense2_3=Dense( 8,activation = 'relu'  )(dropout2_2)\n",
    "flat_2 = Flatten()(dense2_2)\n",
    "\n",
    "# concatenate both feature layers and define output layer after some dense layers\n",
    "concat = Concatenate()([flat_1,flat_2])\n",
    "dense1 = Dense(8, activation = 'relu')(concat)\n",
    "dense2 = Dense(8, activation = 'relu')(dense1)\n",
    "output = Dense(1)(dense2)\n",
    "#output = Dense(10, activation = 'softmax')(dense3)\n",
    "\n",
    "# create model with two inputs\n",
    "model_lstm_dense= Model(inputs=[temporal_series_input, other_inputs], outputs=output)\n",
    "model_lstm_dense.summary()"
   ]
  },
  {
   "cell_type": "markdown",
   "metadata": {},
   "source": [
    "### "
   ]
  },
  {
   "cell_type": "code",
   "execution_count": 177,
   "metadata": {},
   "outputs": [
    {
     "name": "stdout",
     "output_type": "stream",
     "text": [
      "<tf.Variable 'Variable:0' shape=() dtype=int32, numpy=0>\n",
      "Epoch 1/50\n",
      "15/15 [==============================] - 5s 87ms/step - loss: 0.9697 - val_loss: 30.8517\n",
      "Epoch 2/50\n",
      "15/15 [==============================] - 1s 38ms/step - loss: 0.9688 - val_loss: 30.6902\n",
      "Epoch 3/50\n",
      "15/15 [==============================] - 1s 38ms/step - loss: 0.9722 - val_loss: 30.7851\n",
      "Epoch 4/50\n",
      "15/15 [==============================] - 1s 39ms/step - loss: 0.9571 - val_loss: 30.7814\n",
      "Epoch 5/50\n",
      "15/15 [==============================] - 1s 40ms/step - loss: 0.9639 - val_loss: 30.8431\n",
      "Epoch 6/50\n",
      "15/15 [==============================] - 1s 39ms/step - loss: 0.9571 - val_loss: 30.5488\n",
      "Epoch 7/50\n",
      "15/15 [==============================] - 1s 38ms/step - loss: 0.9518 - val_loss: 30.8965\n",
      "Epoch 8/50\n",
      "15/15 [==============================] - 1s 40ms/step - loss: 0.9576 - val_loss: 30.7402\n",
      "Epoch 9/50\n",
      "15/15 [==============================] - 1s 38ms/step - loss: 0.9580 - val_loss: 30.8164\n",
      "Epoch 10/50\n",
      "15/15 [==============================] - 1s 40ms/step - loss: 0.9415 - val_loss: 30.4720\n",
      "Epoch 11/50\n",
      "15/15 [==============================] - 1s 38ms/step - loss: 0.9461 - val_loss: 30.4916\n",
      "Epoch 12/50\n",
      "15/15 [==============================] - 1s 39ms/step - loss: 0.9506 - val_loss: 30.5087\n",
      "Epoch 13/50\n",
      "15/15 [==============================] - 1s 40ms/step - loss: 0.9514 - val_loss: 30.2386\n",
      "Epoch 14/50\n",
      "15/15 [==============================] - 1s 38ms/step - loss: 0.9499 - val_loss: 30.6877\n",
      "Epoch 15/50\n",
      "15/15 [==============================] - 1s 39ms/step - loss: 0.9368 - val_loss: 30.7228\n",
      "Epoch 16/50\n",
      "15/15 [==============================] - 1s 39ms/step - loss: 0.9455 - val_loss: 30.4999\n",
      "Epoch 17/50\n",
      "15/15 [==============================] - 1s 38ms/step - loss: 0.9432 - val_loss: 30.4774\n",
      "Epoch 18/50\n",
      "15/15 [==============================] - 1s 39ms/step - loss: 0.9328 - val_loss: 30.5023\n",
      "Epoch 19/50\n",
      "15/15 [==============================] - 1s 39ms/step - loss: 0.9367 - val_loss: 30.3847\n",
      "Epoch 20/50\n",
      "15/15 [==============================] - 1s 39ms/step - loss: 0.9375 - val_loss: 30.4573\n",
      "Epoch 21/50\n",
      "15/15 [==============================] - 1s 38ms/step - loss: 0.9191 - val_loss: 30.3425\n",
      "Epoch 22/50\n",
      "15/15 [==============================] - 1s 39ms/step - loss: 0.9420 - val_loss: 30.1049\n",
      "Epoch 23/50\n",
      "15/15 [==============================] - 1s 40ms/step - loss: 0.9271 - val_loss: 30.2812\n",
      "Epoch 24/50\n",
      "15/15 [==============================] - 1s 39ms/step - loss: 0.9297 - val_loss: 30.0677\n",
      "Epoch 25/50\n",
      "15/15 [==============================] - 1s 39ms/step - loss: 0.9133 - val_loss: 29.9949\n",
      "Epoch 26/50\n",
      "15/15 [==============================] - 1s 38ms/step - loss: 0.9190 - val_loss: 30.1520\n",
      "Epoch 27/50\n",
      "15/15 [==============================] - 1s 39ms/step - loss: 0.9190 - val_loss: 29.9827\n",
      "Epoch 28/50\n",
      "15/15 [==============================] - 1s 40ms/step - loss: 0.9050 - val_loss: 30.1780\n",
      "Epoch 29/50\n",
      "15/15 [==============================] - 1s 39ms/step - loss: 0.9103 - val_loss: 29.9529\n",
      "Epoch 30/50\n",
      "15/15 [==============================] - 1s 39ms/step - loss: 0.9071 - val_loss: 29.9936\n",
      "Epoch 31/50\n",
      "15/15 [==============================] - 1s 38ms/step - loss: 0.9110 - val_loss: 29.6492\n",
      "Epoch 32/50\n",
      "15/15 [==============================] - 1s 37ms/step - loss: 0.9182 - val_loss: 29.9477\n",
      "Epoch 33/50\n",
      "15/15 [==============================] - 1s 37ms/step - loss: 0.9087 - val_loss: 29.9302\n",
      "Epoch 34/50\n",
      "15/15 [==============================] - 1s 38ms/step - loss: 0.9017 - val_loss: 29.8279\n",
      "Epoch 35/50\n",
      "15/15 [==============================] - 1s 36ms/step - loss: 0.9064 - val_loss: 29.8673\n",
      "Epoch 36/50\n",
      "15/15 [==============================] - 1s 38ms/step - loss: 0.9015 - val_loss: 29.5221\n",
      "Epoch 37/50\n",
      "15/15 [==============================] - 1s 38ms/step - loss: 0.9055 - val_loss: 29.8112\n",
      "Epoch 38/50\n",
      "15/15 [==============================] - 1s 38ms/step - loss: 0.8954 - val_loss: 29.7345\n",
      "Epoch 39/50\n",
      "15/15 [==============================] - 1s 39ms/step - loss: 0.9057 - val_loss: 29.3099\n",
      "Epoch 40/50\n",
      "15/15 [==============================] - 1s 38ms/step - loss: 0.9030 - val_loss: 29.9034\n",
      "Epoch 41/50\n",
      "15/15 [==============================] - 1s 38ms/step - loss: 0.8874 - val_loss: 29.7957\n",
      "Epoch 42/50\n",
      "15/15 [==============================] - 1s 36ms/step - loss: 0.8879 - val_loss: 29.7915\n",
      "Epoch 43/50\n",
      "15/15 [==============================] - 1s 37ms/step - loss: 0.8907 - val_loss: 29.3400\n",
      "Epoch 44/50\n",
      "15/15 [==============================] - 1s 39ms/step - loss: 0.8936 - val_loss: 29.8317\n",
      "Epoch 45/50\n",
      "15/15 [==============================] - 1s 38ms/step - loss: 0.8916 - val_loss: 29.4352\n",
      "Epoch 46/50\n",
      "15/15 [==============================] - 1s 40ms/step - loss: 0.8734 - val_loss: 29.5972\n",
      "Epoch 47/50\n",
      "15/15 [==============================] - 1s 39ms/step - loss: 0.8919 - val_loss: 28.9273\n",
      "Epoch 48/50\n",
      "15/15 [==============================] - 1s 38ms/step - loss: 0.8935 - val_loss: 29.2289\n",
      "Epoch 49/50\n",
      "15/15 [==============================] - 1s 38ms/step - loss: 0.8702 - val_loss: 29.6865\n",
      "Epoch 50/50\n",
      "15/15 [==============================] - 1s 38ms/step - loss: 0.8883 - val_loss: 29.1444\n"
     ]
    }
   ],
   "source": [
    "#tf.random.set_see\n",
    "step=100\n",
    "initial_learning_rate=1e-3\n",
    "step=tf.Variable(0, trainable=False)\n",
    "print(step)\n",
    "#tf.compat.v1.train.exponential_decay(starter_learning_rate,global_step, 100000, 0.96, staircase=True)\n",
    "learning_rate = tf.compat.v1.train.exponential_decay(initial_learning_rate, step, 1000, 0.999, staircase=True)\n",
    "opt = tf.keras.optimizers.Adam(learning_rate)\n",
    "model_lstm_dense.compile(loss='mean_squared_error', optimizer=opt)\n",
    "# to avoid overfitting\n",
    "es = EarlyStopping(monitor='val_loss', mode='min', verbose=1, patience=50, restore_best_weights=True) \n",
    "\n",
    "history = model_lstm_dense.fit( [X_train_lstm, X_train2],\n",
    "                    Y_train,\n",
    "                    epochs          = 500,\n",
    "                    batch_size      = batch_size,\n",
    "                    verbose         = 1,\n",
    "                    validation_data = ([X_val_lstm, X_val2], Y_val),\n",
    "                    callbacks=[es, cp_callback]\n",
    "                   )"
   ]
  },
  {
   "cell_type": "markdown",
   "metadata": {},
   "source": [
    "plt.plot(history.history['mse'] )\n",
    "plt.plot(history.history['val_mse'])"
   ]
  },
  {
   "cell_type": "markdown",
   "metadata": {},
   "source": [
    "### 6. Testing with validation set and training set for parameters optimization"
   ]
  },
  {
   "cell_type": "code",
   "execution_count": null,
   "metadata": {},
   "outputs": [],
   "source": [
    "# On fait les prédictions\n",
    "# .... Sur les données d'apprentissage\n",
    "Y_train_predict = model.predict([X_train_lstm, X_train2])  # hauteur de chute prédite sur les données d'apprentissage\n",
    "Y_train_predict= scalerY.inverse_transform(Y_train_predict) # repassage à l'échelle\n",
    "#trainY_ = scaler.inverse_transform([trainY])\n",
    "\n",
    "# ... Sur la validation set \n",
    "Y_val_predict = model.predict([X_val_lstm, X_val2])\n",
    "Y_val_predict = scaler.inverse_transform(Y_val_predict)\n",
    "#testY_= scaler.inverse_transform([testY])\n",
    "\n",
    "# Compute root mean squared error\n",
    "trainScore = math.sqrt(mean_squared_error(Y_train_ori[0], Y_train_predict[:,0]))\n",
    "print('Train Score: %.5f RMSE' % (trainScore))\n",
    "valScore = math.sqrt(mean_squared_error(Y_val[0], Y_val_predict[:,0]))\n",
    "print('Test Score: %.5f RMSE' % (valScore))"
   ]
  },
  {
   "cell_type": "markdown",
   "metadata": {},
   "source": [
    "### 7. Test set"
   ]
  },
  {
   "cell_type": "code",
   "execution_count": null,
   "metadata": {},
   "outputs": [],
   "source": [
    "# ... Sur les données de  test \n",
    "Y_test_predict = model.predict([X_test_lstm, X_test2])\n",
    "Y_test_predict = scaler.inverse_transform(Y_test_predict)\n",
    "#testY_= scaler.inverse_transform([testY])\n",
    "\n",
    "# Compute root mean squared error\n",
    "testScore = math.sqrt(mean_squared_error(Y_test[0], Y_test_predict[:,0]))\n",
    "print('Test Score: %.5f RMSE' % (testScore))"
   ]
  },
  {
   "cell_type": "code",
   "execution_count": null,
   "metadata": {},
   "outputs": [],
   "source": []
  },
  {
   "cell_type": "code",
   "execution_count": 20,
   "metadata": {},
   "outputs": [
    {
     "data": {
      "text/plain": [
       "<tensorflow.python.training.tracking.util.CheckpointLoadStatus at 0x1f911421670>"
      ]
     },
     "execution_count": 20,
     "metadata": {},
     "output_type": "execute_result"
    }
   ],
   "source": [
    "\n",
    "# feature extraction from temporal data (cours+rsi)\n",
    "#        X_train_lstm.shape[1]= time_step\n",
    "temporal_series_input = Input(shape=(X_train_lstm.shape[1], X_train_lstm.shape[2]), name='temporal_input')\n",
    "lstm1=LSTM(32, return_sequences = True)(temporal_series_input)\n",
    "dropout1 = Dropout(0.3)(lstm1, training=True)\n",
    "lstm2=LSTM(16, return_sequences = True)(dropout1)\n",
    "dropout2 = Dropout(0.3)(lstm2, training=True)\n",
    "dense1_1=Dense( 8,activation = 'relu'  )(dropout2)\n",
    "#lstm3=LSTM(8, activation = 'relu')(dropout2)\n",
    "flat_1 = Flatten()(dense1_1)\n",
    "\n",
    "# feature extraction from other variables ('angle1', 'angle2', 'longueur', 'type divergence')\n",
    "other_inputs  = Input(shape=(X_train2.shape[1],), name='other_variables')\n",
    "dense2_1=Dense( 16,activation = 'relu'  )(other_inputs)\n",
    "dropout2_1 = Dropout(0.3)(dense2_1, training=True)\n",
    "dense2_2=Dense( 8,activation = 'relu'  )(dropout2_1)\n",
    "#dropout2_2 = Dropout(0.3)(dense2_2, training=True)\n",
    "#dense2_3=Dense( 8,activation = 'relu'  )(dropout2_2)\n",
    "flat_2 = Flatten()(dense2_2)\n",
    "\n",
    "# concatenate both feature layers and define output layer after some dense layers\n",
    "concat = Concatenate()([flat_1,flat_2])\n",
    "dense1 = Dense(16, activation = 'relu')(concat)\n",
    "dense2 = Dense(8, activation = 'relu')(dense1)\n",
    "output = Dense(1)(dense2)\n",
    "\n",
    "\n",
    "model_lstm_dense_load=Model(inputs=[temporal_series_input, other_inputs], outputs=output)\n",
    "latest = tf.train.latest_checkpoint(checkpoint_dir)\n",
    "model_lstm_dense_load.load_weights(latest)"
   ]
  },
  {
   "cell_type": "code",
   "execution_count": 21,
   "metadata": {},
   "outputs": [],
   "source": [
    "#model_lstm_dense.save('model_lstm_dense')\n",
    "model=model_lstm_dense_load\n",
    "# On fait les prédictions\n",
    "# .... Sur les données d'apprentissage\n",
    "Y_train_predict = model.predict([X_train_lstm, X_train2])  # hauteur de chute prédite sur les données d'apprentissage\n",
    "Y_train_predict= scalerY.inverse_transform(Y_train_predict) # repassage à l'échelle\n",
    "#trainY_ = scaler.inverse_transform([trainY])\n"
   ]
  },
  {
   "cell_type": "code",
   "execution_count": 26,
   "metadata": {},
   "outputs": [
    {
     "data": {
      "text/plain": [
       "array([[ 4.00999832],\n",
       "       [ 1.09000015],\n",
       "       [ 6.54069519],\n",
       "       ...,\n",
       "       [20.83000183],\n",
       "       [ 0.18999481],\n",
       "       [ 6.66490173]])"
      ]
     },
     "execution_count": 26,
     "metadata": {},
     "output_type": "execute_result"
    }
   ],
   "source": [
    "Y_train_ori"
   ]
  },
  {
   "cell_type": "code",
   "execution_count": 36,
   "metadata": {},
   "outputs": [
    {
     "data": {
      "text/plain": [
       "Text(0, 0.5, 'Réalité')"
      ]
     },
     "execution_count": 36,
     "metadata": {},
     "output_type": "execute_result"
    },
    {
     "data": {
      "image/png": "[encoded data removed]",
      "text/plain": [
       "<Figure size 432x288 with 1 Axes>"
      ]
     },
     "metadata": {
      "needs_background": "light"
     },
     "output_type": "display_data"
    }
   ],
   "source": [
    "plt.plot(Y_train_predict, Y_train_ori, '*')\n",
    "plt.plot(np.linspace(0, 140, 500), np.linspace(0, 140, 500))\n",
    "plt.title(\"Prédiction VS Réalité\")\n",
    "plt.xlabel('Prédiction')\n",
    "plt.ylabel('Réalité')\n",
    "plt.show()"
   ]
  },
  {
   "cell_type": "code",
   "execution_count": 29,
   "metadata": {},
   "outputs": [
    {
     "name": "stdout",
     "output_type": "stream",
     "text": [
      "Train Score: 0.81023 RMSE\n"
     ]
    }
   ],
   "source": [
    "trainScore = math.sqrt(mean_squared_error(Y_train_ori, Y_train_predict[:,0]))\n",
    "print('Train Score: %.5f RMSE' % (trainScore))"
   ]
  },
  {
   "cell_type": "code",
   "execution_count": 38,
   "metadata": {
    "scrolled": true
   },
   "outputs": [
    {
     "data": {
      "image/png": "[encoded data removed]",
      "text/plain": [
       "<Figure size 432x288 with 1 Axes>"
      ]
     },
     "metadata": {
      "needs_background": "light"
     },
     "output_type": "display_data"
    },
    {
     "data": {
      "text/plain": [
       "<Figure size 432x288 with 0 Axes>"
      ]
     },
     "metadata": {},
     "output_type": "display_data"
    }
   ],
   "source": [
    "plt.plot(Y_test_predict, Y_test, '*')\n",
    "plt.plot(np.linspace(0, 140, 500), np.linspace(0, 140, 500))\n",
    "plt.title(\"PRICE: Pédiction hauteur de chute VS Réalité\")\n",
    "plt.xlabel('Prédiction')\n",
    "plt.ylabel('Réalité')\n",
    "plt.show()\n",
    "plt.savefig(\"prediction_reality.png\")"
   ]
  },
  {
   "cell_type": "code",
   "execution_count": 39,
   "metadata": {},
   "outputs": [
    {
     "name": "stdout",
     "output_type": "stream",
     "text": [
      "Validation Score: 0.81693 RMSE\n",
      "Ecart type sur les données de validation: 9.18212\n",
      "Test Score: 0.79699 RMSE\n",
      "Ecart type sur les données de test: 8.97620\n"
     ]
    }
   ],
   "source": [
    "#np.savetxt('Y_train_predict.out', Y_train_predict, delimiter=',')   # X is an array\n",
    "#np.savetxt('y_train_real.out', Y_train_ori, delimiter=',')   # X is an array\n",
    "# ... Sur la validation set \n",
    "Y_val_predict = model.predict([X_val_lstm, X_val2])\n",
    "Y_val_predict = scalerY.inverse_transform(Y_val_predict)\n",
    "\n",
    "#np.savetxt('Y_val_predict.out', Y_train_predict, delimiter=',')   # X is an array\n",
    "#np.savetxt('y_val_real.out', Y_val, delimiter=',')   # X is an array\n",
    "\n",
    "#testY_= scaler.inverse_transform([testY])\n",
    "# Compute root mean squared error\n",
    "#trainScore = math.sqrt(mean_squared_error(Y_train_ori, Y_train_predict[:,0]))\n",
    "#print('Train Score: %.5f RMSE' % (trainScore))\n",
    "valScore = math.sqrt(mean_squared_error(Y_val, Y_val_predict[:,0]))\n",
    "print('Validation Score: %.5f RMSE' % (valScore))\n",
    "print('Ecart type sur les données de validation: %.5f' %( np.std(Y_val)))\n",
    "# ### 7. Test set\n",
    "\n",
    "# In[ ]:\n",
    "# ... Sur les données de  test \n",
    "Y_test_predict = model.predict([X_test_lstm, X_test2])\n",
    "Y_test_predict = scalerY.inverse_transform(Y_test_predict)\n",
    "\n",
    "#testY_= scaler.inverse_transform([testY])\n",
    "#np.savetxt('Y_test_predict.out', Y_test_predict, delimiter=',')   # X is an array\n",
    "#np.savetxt('y_test_real.out', Y_test, delimiter=',')   # X is an array\n",
    "# Compute root mean squared error\n",
    "testScore = math.sqrt(mean_squared_error(Y_test, Y_test_predict[:,0]))\n",
    "print('Test Score: %.5f RMSE' % (testScore))\n",
    "print('Ecart type sur les données de test: %.5f' % ( np.std(Y_test)))"
   ]
  },
  {
   "cell_type": "code",
   "execution_count": 40,
   "metadata": {},
   "outputs": [
    {
     "name": "stdout",
     "output_type": "stream",
     "text": [
      "Validation Score: 0.81693 RMSE\n",
      "Score de référence sur les données de validation: 9.18212\n",
      "Test Score: 0.79699 RMSE\n",
      "Score de référence sur les données de test: 8.97620\n"
     ]
    }
   ],
   "source": [
    "print('Validation Score: %.5f RMSE' % (valScore))\n",
    "print('Score de référence sur les données de validation: %.5f' %( np.std(Y_val)))\n",
    "testScore = math.sqrt(mean_squared_error(Y_test, Y_test_predict[:,0]))\n",
    "print('Test Score: %.5f RMSE' % (testScore))\n",
    "print('Score de référence sur les données de test: %.5f' % ( np.std(Y_test)))"
   ]
  },
  {
   "cell_type": "code",
   "execution_count": null,
   "metadata": {},
   "outputs": [],
   "source": [
    "DATA_SPLIT_PCT = 0.2\n",
    "\n",
    "timesteps =  5\n",
    "n_features =  20\n",
    "\n",
    "epochs = 100\n",
    "batch = 32\n",
    "lr = 0.0001\n",
    "\n",
    "lstm_autoencoder = Sequential([\n",
    "    # Encoder\n",
    "    LSTM(8, activation='relu', input_shape=(timesteps, n_features), return_sequences=True),\n",
    "    LSTM(4, activation='relu', return_sequences=False),\n",
    "    RepeatVector(timesteps),\n",
    "\n",
    "    # Decoder\n",
    "    LSTM(4, activation='relu', return_sequences=True),\n",
    "    LSTM(8, activation='relu', return_sequences=True)\n",
    "    TimeDistributed(Dense(n_features)),\n",
    "])\n",
    "\n",
    "adam = optimizers.Adam(lr)\n",
    "lstm_autoencoder.compile(loss='mse', optimizer=adam)\n",
    "\n",
    "for stock in stock_list:  # 500 stocks in stock_list\n",
    "    lstm_autoencoder_history = lstm_autoencoder.fit(X_train_dict[ticker], X_train_dict[ticker], \n",
    "                                                    epochs=epochs, \n",
    "                                                    batch_size=batch, \n",
    "                                                    validation_data=(X_valid_dict[ticker], X_valid_dict[ticker]),\n",
    "                                                    verbose=False).history\n",
    "\n",
    "plt.plot(lstm_autoencoder_history['loss'], linewidth=2, label='Train')\n",
    "plt.plot(lstm_autoencoder_history['val_loss'], linewidth=2, label='Valid')\n",
    "plt.show()"
   ]
  }
 ],
 "metadata": {
  "kernelspec": {
   "display_name": "Python 3",
   "language": "python",
   "name": "python3"
  },
  "language_info": {
   "codemirror_mode": {
    "name": "ipython",
    "version": 3
   },
   "file_extension": ".py",
   "mimetype": "text/x-python",
   "name": "python",
   "nbconvert_exporter": "python",
   "pygments_lexer": "ipython3",
   "version": "3.8.5"
  }
 },
 "nbformat": 4,
 "nbformat_minor": 4
}
